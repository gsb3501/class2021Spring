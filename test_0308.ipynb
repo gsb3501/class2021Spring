{
  "nbformat": 4,
  "nbformat_minor": 0,
  "metadata": {
    "colab": {
      "name": "Untitled5.ipynb",
      "provenance": [],
      "authorship_tag": "ABX9TyPWdmMv3FXOyCjxi5amgbog",
      "include_colab_link": true
    },
    "kernelspec": {
      "name": "python3",
      "display_name": "Python 3"
    }
  },
  "cells": [
    {
      "cell_type": "markdown",
      "metadata": {
        "id": "view-in-github",
        "colab_type": "text"
      },
      "source": [
        "<a href=\"https://colab.research.google.com/github/gsb3501/class2021Spring/blob/main/Untitled5_0308.ipynb\" target=\"_parent\"><img src=\"https://colab.research.google.com/assets/colab-badge.svg\" alt=\"Open In Colab\"/></a>"
      ]
    },
    {
      "cell_type": "code",
      "metadata": {
        "colab": {
          "base_uri": "https://localhost:8080/",
          "height": 0
        },
        "id": "VDlPJP0rT5B3",
        "outputId": "cce003b3-a901-4fdd-ccd3-aae61dffe39b"
      },
      "source": [
        "a = 1\n",
        "b = 2\n",
        "c = a + b\n",
        "c\n",
        "\n"
      ],
      "execution_count": 1,
      "outputs": [
        {
          "output_type": "execute_result",
          "data": {
            "text/plain": [
              "3"
            ]
          },
          "metadata": {
            "tags": []
          },
          "execution_count": 1
        }
      ]
    },
    {
      "cell_type": "markdown",
      "metadata": {
        "id": "R__Ui8-DUDMk"
      },
      "source": [
        "0308 영어음성학\n",
        "# 오늘 배운 것: \n",
        "## github 계정 만들기, login 해서 repository 만들기 (이름 - class2021Spring) \n",
        "\n",
        "\n",
        "1.   python\n",
        "2.   markdown - 텍스트를 꾸미는 용도 \n",
        "\n",
        "모든 행위는 깃헙에 업로드를 시키고, ipynb 자체를 jupyter notebook 이라함. \n",
        "구글의 colab = jupyter notebook 은 아님. \n",
        "\n",
        "\n",
        "jupyter notebook의 포맷 2가지 \n",
        "1. 코드\n",
        "2. 텍스트\n"
      ]
    },
    {
      "cell_type": "markdown",
      "metadata": {
        "id": "dCf-HTbzV7Ln"
      },
      "source": [
        "우리는 파이썬을 배우게 됩니다. \n",
        "\n",
        "\n"
      ]
    },
    {
      "cell_type": "markdown",
      "metadata": {
        "id": "n8P6GOcZWUbi"
      },
      "source": [
        "#파이썬을 어디서 배우나요?\n",
        "###Jump to python"
      ]
    },
    {
      "cell_type": "markdown",
      "metadata": {
        "id": "yAeS8HhVWWtb"
      },
      "source": [
        ""
      ]
    }
  ]
}
