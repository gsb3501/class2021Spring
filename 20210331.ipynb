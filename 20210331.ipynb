{
  "nbformat": 4,
  "nbformat_minor": 0,
  "metadata": {
    "colab": {
      "name": "20210331.ipynb",
      "provenance": [],
      "authorship_tag": "ABX9TyOzZwj2sGP8aGRiLe5XWWHb",
      "include_colab_link": true
    },
    "kernelspec": {
      "name": "python3",
      "display_name": "Python 3"
    },
    "language_info": {
      "name": "python"
    }
  },
  "cells": [
    {
      "cell_type": "markdown",
      "metadata": {
        "id": "view-in-github",
        "colab_type": "text"
      },
      "source": [
        "<a href=\"https://colab.research.google.com/github/gsb3501/class2021Spring/blob/main/20210331.ipynb\" target=\"_parent\"><img src=\"https://colab.research.google.com/assets/colab-badge.svg\" alt=\"Open In Colab\"/></a>"
      ]
    },
    {
      "cell_type": "markdown",
      "metadata": {
        "id": "yohcBgSF34KV"
      },
      "source": [
        "# 아\n",
        "##pitch: 1693 Hz\n",
        "\n",
        "##intensity: 60.53 dB\n",
        "\n",
        "##formant \n",
        "\n",
        "f1 = 881.3 Hz\n",
        "\n",
        "f2 = 1362 Hz\n",
        "\n",
        "##duration: 0.590 ms\n",
        "\n",
        "#애\n",
        "##pitch: 1603 Hz\n",
        "\n",
        "##intensity: 59.18 dB\n",
        "\n",
        "##formant (f1, f2) \n",
        "f1 = 490.3 Hz\n",
        "f2 = 2174 Hz\n",
        "\n",
        "##duration: 0.406 ms"
      ]
    }
  ]
}