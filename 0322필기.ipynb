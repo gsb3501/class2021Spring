{
  "nbformat": 4,
  "nbformat_minor": 0,
  "metadata": {
    "colab": {
      "name": "0322필기.ipynb",
      "provenance": [],
      "authorship_tag": "ABX9TyPul22GhCNOGFKoXSUytekj",
      "include_colab_link": true
    },
    "kernelspec": {
      "name": "python3",
      "display_name": "Python 3"
    },
    "language_info": {
      "name": "python"
    }
  },
  "cells": [
    {
      "cell_type": "markdown",
      "metadata": {
        "id": "view-in-github",
        "colab_type": "text"
      },
      "source": [
        "<a href=\"https://colab.research.google.com/github/gsb3501/class2021Spring/blob/main/0322%ED%95%84%EA%B8%B0.ipynb\" target=\"_parent\"><img src=\"https://colab.research.google.com/assets/colab-badge.svg\" alt=\"Open In Colab\"/></a>"
      ]
    },
    {
      "cell_type": "code",
      "metadata": {
        "id": "6fVjwuWYZkcX"
      },
      "source": [
        "def func2(x, a, b, c):\n",
        "  y = a*x**2 + b*x + c\n",
        "  return y"
      ],
      "execution_count": 2,
      "outputs": []
    },
    {
      "cell_type": "code",
      "metadata": {
        "colab": {
          "base_uri": "https://localhost:8080/"
        },
        "id": "_ZoPALIpZ4e_",
        "outputId": "a394fc61-bb45-45ab-f8c1-6e5fd70b337a"
      },
      "source": [
        "func2(5, 1, -2, 3)"
      ],
      "execution_count": 3,
      "outputs": [
        {
          "output_type": "execute_result",
          "data": {
            "text/plain": [
              "18"
            ]
          },
          "metadata": {
            "tags": []
          },
          "execution_count": 3
        }
      ]
    },
    {
      "cell_type": "markdown",
      "metadata": {
        "id": "C3nAMeT8bWoM"
      },
      "source": [
        "# class ___:\n",
        "\n",
        "클래스는 함수외 변수가 동시에 정의되는 것.\n"
      ]
    },
    {
      "cell_type": "code",
      "metadata": {
        "id": "tPkigbZVafTC"
      },
      "source": [
        "class cal:\n",
        "  def __init__(self):\n",
        "    self.result = 0  #변수\n",
        "  def add(self, n):  #나중에 실제로 입력되는 것은 n만. \n",
        "    self.result += n\n",
        "    return self.result"
      ],
      "execution_count": 4,
      "outputs": []
    },
    {
      "cell_type": "code",
      "metadata": {
        "colab": {
          "base_uri": "https://localhost:8080/"
        },
        "id": "0krbdprqcWdU",
        "outputId": "ae14fed3-0c59-47a3-b31f-ab3ba1a84141"
      },
      "source": [
        "A = cal()\n",
        "A.result"
      ],
      "execution_count": 9,
      "outputs": [
        {
          "output_type": "execute_result",
          "data": {
            "text/plain": [
              "0"
            ]
          },
          "metadata": {
            "tags": []
          },
          "execution_count": 9
        }
      ]
    },
    {
      "cell_type": "code",
      "metadata": {
        "colab": {
          "base_uri": "https://localhost:8080/"
        },
        "id": "qNBLciZmdPIO",
        "outputId": "781d873e-ffe7-41f4-ac4b-9d87c28dc80e"
      },
      "source": [
        "A.add(4)"
      ],
      "execution_count": 10,
      "outputs": [
        {
          "output_type": "execute_result",
          "data": {
            "text/plain": [
              "4"
            ]
          },
          "metadata": {
            "tags": []
          },
          "execution_count": 10
        }
      ]
    },
    {
      "cell_type": "code",
      "metadata": {
        "colab": {
          "base_uri": "https://localhost:8080/"
        },
        "id": "-zjxk78DdRBa",
        "outputId": "03fdc9fe-0576-42b6-c944-ca7f98771146"
      },
      "source": [
        "A.add(5)"
      ],
      "execution_count": 11,
      "outputs": [
        {
          "output_type": "execute_result",
          "data": {
            "text/plain": [
              "9"
            ]
          },
          "metadata": {
            "tags": []
          },
          "execution_count": 11
        }
      ]
    },
    {
      "cell_type": "markdown",
      "metadata": {
        "id": "mREs8xQyernc"
      },
      "source": [
        "#Module\n",
        "클래스나 함수를 모아놓은 파일 \n",
        "\n",
        "#Package\n",
        "여러 모듈을 묶어서 사용하기 쉽게 한 덩어리로 만들어 놓은 것. \n",
        "\n",
        "패키지나 모듈을 사\n"
      ]
    },
    {
      "cell_type": "code",
      "metadata": {
        "id": "Al8TjW1LdpWs"
      },
      "source": [
        "class cal:\n",
        "  def __init__(self):\n",
        "    self.result = 0\n",
        "  def add(self, n):\n",
        "    self.result += n\n",
        "    return self.result"
      ],
      "execution_count": null,
      "outputs": []
    }
  ]
}