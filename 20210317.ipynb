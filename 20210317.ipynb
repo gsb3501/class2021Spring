{
  "nbformat": 4,
  "nbformat_minor": 0,
  "metadata": {
    "colab": {
      "name": "20210317.ipynb",
      "provenance": [],
      "authorship_tag": "ABX9TyMzT9x4L+YIfMCuuMMYCoHK",
      "include_colab_link": true
    },
    "kernelspec": {
      "name": "python3",
      "display_name": "Python 3"
    }
  },
  "cells": [
    {
      "cell_type": "markdown",
      "metadata": {
        "id": "view-in-github",
        "colab_type": "text"
      },
      "source": [
        "<a href=\"https://colab.research.google.com/github/gsb3501/class2021Spring/blob/main/20210317.ipynb\" target=\"_parent\"><img src=\"https://colab.research.google.com/assets/colab-badge.svg\" alt=\"Open In Colab\"/></a>"
      ]
    },
    {
      "cell_type": "code",
      "metadata": {
        "colab": {
          "base_uri": "https://localhost:8080/"
        },
        "id": "C2_qBhy1uMMY",
        "outputId": "b6c38bb1-4e0c-4d3c-9204-0e274bdeaabe"
      },
      "source": [
        "# 이중 for loop\n",
        "a = [1, 2, 3, 4, 5]\n",
        "for i in a:\n",
        "  for j in range(0, 3):\n",
        "      if i <= j:\n",
        "        print(i)\n"
      ],
      "execution_count": 5,
      "outputs": [
        {
          "output_type": "stream",
          "text": [
            "1\n",
            "1\n",
            "2\n"
          ],
          "name": "stdout"
        }
      ]
    },
    {
      "cell_type": "code",
      "metadata": {
        "colab": {
          "base_uri": "https://localhost:8080/"
        },
        "id": "vGJ4AQBXv2Mk",
        "outputId": "583fe694-a8a6-4bb8-c24e-22c4f4c1e3aa"
      },
      "source": [
        "# loop 를 쓰는 list 만들기 \n",
        "a = [1, 2, 3, 4, 5, 'dog', 'cat']\n",
        "b = [i for i in a if type(i) == str]\n",
        "print(b)"
      ],
      "execution_count": 10,
      "outputs": [
        {
          "output_type": "stream",
          "text": [
            "['dog', 'cat']\n"
          ],
          "name": "stdout"
        }
      ]
    }
  ]
}