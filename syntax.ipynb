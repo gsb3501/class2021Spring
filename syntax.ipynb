{
  "nbformat": 4,
  "nbformat_minor": 0,
  "metadata": {
    "colab": {
      "name": "syntax.ipynb",
      "provenance": [],
      "authorship_tag": "ABX9TyNwAviVFB6UrEYw4eKYr9sh",
      "include_colab_link": true
    },
    "kernelspec": {
      "name": "python3",
      "display_name": "Python 3"
    }
  },
  "cells": [
    {
      "cell_type": "markdown",
      "metadata": {
        "id": "view-in-github",
        "colab_type": "text"
      },
      "source": [
        "<a href=\"https://colab.research.google.com/github/gsb3501/class2021Spring/blob/main/syntax.ipynb\" target=\"_parent\"><img src=\"https://colab.research.google.com/assets/colab-badge.svg\" alt=\"Open In Colab\"/></a>"
      ]
    },
    {
      "cell_type": "markdown",
      "metadata": {
        "id": "DMze23Rw1PLD"
      },
      "source": [
        "# Syntax 연습"
      ]
    },
    {
      "cell_type": "markdown",
      "metadata": {
        "id": "UoPpn7xPpksL"
      },
      "source": [
        "#제어문\n",
        "loop - for\n",
        "\n",
        "cond - if"
      ]
    },
    {
      "cell_type": "code",
      "metadata": {
        "id": "XphJJittefmH"
      },
      "source": [
        "# for ___ in ____:\n",
        "# if ____:\n",
        "# else: "
      ],
      "execution_count": null,
      "outputs": []
    },
    {
      "cell_type": "code",
      "metadata": {
        "colab": {
          "base_uri": "https://localhost:8080/"
        },
        "id": "WvLneT1u1Olf",
        "outputId": "8cdbd465-8f74-45ac-ba95-85a7323cd3ca"
      },
      "source": [
        "a = [1, 2, 3, 4]\n",
        "for i in a: \n",
        "  print(i)"
      ],
      "execution_count": null,
      "outputs": [
        {
          "output_type": "stream",
          "text": [
            "1\n",
            "2\n",
            "3\n",
            "4\n"
          ],
          "name": "stdout"
        }
      ]
    },
    {
      "cell_type": "code",
      "metadata": {
        "colab": {
          "base_uri": "https://localhost:8080/"
        },
        "id": "K-eBMJRk1cL5",
        "outputId": "0460a4e5-3714-4b40-86b4-43bd8ae40721"
      },
      "source": [
        "a = [1, 2, 3, 4]\n",
        "for i in range(len(a)):\n",
        "  print(a[i])"
      ],
      "execution_count": null,
      "outputs": [
        {
          "output_type": "stream",
          "text": [
            "1\n",
            "2\n",
            "3\n",
            "4\n"
          ],
          "name": "stdout"
        }
      ]
    },
    {
      "cell_type": "code",
      "metadata": {
        "id": "iVw9OmR7nkv-",
        "outputId": "90cbed41-d919-47e6-db7c-cf4cf9dde4cf",
        "colab": {
          "base_uri": "https://localhost:8080/"
        }
      },
      "source": [
        "a = [1, 2, 3, 4]\n",
        "for i in range (0,4,2):\n",
        "  print(a[i])\n",
        "\n",
        "# range(0,4) 는 0부터 4이전까지. 즉, 0부터 3까지. \n",
        "# range(4) = range(0,4)\n",
        "# range (0, 4, 2) : 0번 인덱스부터 3번 인덱스까지 2칸을 띄워서 "
      ],
      "execution_count": 5,
      "outputs": [
        {
          "output_type": "stream",
          "text": [
            "1\n",
            "3\n"
          ],
          "name": "stdout"
        }
      ]
    },
    {
      "cell_type": "code",
      "metadata": {
        "colab": {
          "base_uri": "https://localhost:8080/"
        },
        "id": "hg7xipRx1ilW",
        "outputId": "e3cba95f-487b-48c8-b34b-4d789787d7cf"
      },
      "source": [
        "a = ['red', 'green', 'blue', 'purple']\n",
        "for i in a:\n",
        "  print(i)"
      ],
      "execution_count": null,
      "outputs": [
        {
          "output_type": "stream",
          "text": [
            "red\n",
            "green\n",
            "blue\n",
            "purple\n"
          ],
          "name": "stdout"
        }
      ]
    },
    {
      "cell_type": "code",
      "metadata": {
        "colab": {
          "base_uri": "https://localhost:8080/"
        },
        "id": "rinfEMjp1o6T",
        "outputId": "e7e86fd9-b0fe-4663-d2af-c9eacd54d049"
      },
      "source": [
        "a = ['red', 'green', 'blue', 'purple']\n",
        "for i in range(len(a)):\n",
        "  print(a[i])"
      ],
      "execution_count": null,
      "outputs": [
        {
          "output_type": "stream",
          "text": [
            "red\n",
            "green\n",
            "blue\n",
            "purple\n"
          ],
          "name": "stdout"
        }
      ]
    },
    {
      "cell_type": "code",
      "metadata": {
        "colab": {
          "base_uri": "https://localhost:8080/"
        },
        "id": "yOOwfGXo1u-Z",
        "outputId": "3f65319d-1a0b-4880-c6b9-3e1e966ddcac"
      },
      "source": [
        "a = [\"red\", \"green\", \"blue\", \"purple\"]\n",
        "b = [0.2, 0.3, 0.1, 0.4]\n",
        "for i, a_ in enumerate(a):\n",
        "  print(\"{}: {}%\".format(a_, b[i]*100))\n",
        "# enumerate: 인덱스 번호와 컬렉션의 원소를 튜플 형태로 반환"
      ],
      "execution_count": null,
      "outputs": [
        {
          "output_type": "stream",
          "text": [
            "red: 20.0%\n",
            "green: 30.0%\n",
            "blue: 10.0%\n",
            "purple: 40.0%\n"
          ],
          "name": "stdout"
        }
      ]
    },
    {
      "cell_type": "code",
      "metadata": {
        "colab": {
          "base_uri": "https://localhost:8080/"
        },
        "id": "ZKl1km-n2AZV",
        "outputId": "38ad7998-ffba-4a19-acde-2a85a18361ae"
      },
      "source": [
        "a = [\"red\", \"green\", \"blue\", \"purple\"]\n",
        "b = [0.2, 0.3, 0.1, 0.4]\n",
        "for a_, b_ in zip(a, b):\n",
        "  print(\"{}: {}%\".format(a_,b[i]*100))\n",
        "# zip: 여러개 오브젝트나 리스트 등이 요소를 동시에 취득"
      ],
      "execution_count": null,
      "outputs": [
        {
          "output_type": "stream",
          "text": [
            "red: 40.0%\n",
            "green: 40.0%\n",
            "blue: 40.0%\n",
            "purple: 40.0%\n"
          ],
          "name": "stdout"
        }
      ]
    },
    {
      "cell_type": "code",
      "metadata": {
        "id": "zTh96ipIpYE9"
      },
      "source": [
        "# enumerate 랑 zip은 따로 해봐라..수업은 스킵"
      ],
      "execution_count": null,
      "outputs": []
    },
    {
      "cell_type": "code",
      "metadata": {
        "colab": {
          "base_uri": "https://localhost:8080/"
        },
        "id": "JdTWG6XI2SVv",
        "outputId": "eae008d1-ba25-424e-bfdc-a6c6c8003ef5"
      },
      "source": [
        "a = 0\n",
        "if a==0:\n",
        "  print(a)\n",
        "else:\n",
        "  print(a+1)"
      ],
      "execution_count": null,
      "outputs": [
        {
          "output_type": "stream",
          "text": [
            "0\n"
          ],
          "name": "stdout"
        }
      ]
    },
    {
      "cell_type": "code",
      "metadata": {
        "colab": {
          "base_uri": "https://localhost:8080/"
        },
        "id": "zDTGgJNo2ei6",
        "outputId": "c13040e4-1da1-4b71-a323-0bc23c4b5e5a"
      },
      "source": [
        "for i in range(1, 3):\n",
        "  for j in range(3, 5):\n",
        "    print(i*j)\n",
        "# range(a, b): a부터 b-1까지"
      ],
      "execution_count": null,
      "outputs": [
        {
          "output_type": "stream",
          "text": [
            "3\n",
            "4\n",
            "6\n",
            "8\n"
          ],
          "name": "stdout"
        }
      ]
    },
    {
      "cell_type": "code",
      "metadata": {
        "colab": {
          "base_uri": "https://localhost:8080/"
        },
        "id": "6JYtG-Iv2jfY",
        "outputId": "bde262ef-1a97-402b-e6b0-fda873851b2e"
      },
      "source": [
        "for i in range(1, 3):\n",
        "  for j in range(3, 5):\n",
        "    if j>= 4:\n",
        "      print(i*j)"
      ],
      "execution_count": null,
      "outputs": [
        {
          "output_type": "stream",
          "text": [
            "4\n",
            "8\n"
          ],
          "name": "stdout"
        }
      ]
    },
    {
      "cell_type": "code",
      "metadata": {
        "colab": {
          "base_uri": "https://localhost:8080/"
        },
        "id": "zMcoYkY82qRa",
        "outputId": "3353fce7-9d1a-4b5a-c7f0-e8484f4d302e"
      },
      "source": [
        "a = [1, 2, 3, 4]\n",
        "b = [ i for i in a if i>=2] # a 리스트에서 2이상인 i\n",
        "b"
      ],
      "execution_count": null,
      "outputs": [
        {
          "output_type": "execute_result",
          "data": {
            "text/plain": [
              "[2, 3, 4]"
            ]
          },
          "metadata": {
            "tags": []
          },
          "execution_count": 18
        }
      ]
    },
    {
      "cell_type": "code",
      "metadata": {
        "colab": {
          "base_uri": "https://localhost:8080/"
        },
        "id": "5uzjKE1g2v0q",
        "outputId": "42b168cf-766a-486f-ec8a-3169db12a35b"
      },
      "source": [
        "a = [\"red\", \"green\", \"blue\", \"purple\"]\n",
        "b = [i for i in a if len(i) >=4]   #철자가 4개 이상인 것을 b에 list up 해라 \n",
        "b"
      ],
      "execution_count": null,
      "outputs": [
        {
          "output_type": "execute_result",
          "data": {
            "text/plain": [
              "['green', 'blue', 'purple']"
            ]
          },
          "metadata": {
            "tags": []
          },
          "execution_count": 17
        }
      ]
    }
  ]
}