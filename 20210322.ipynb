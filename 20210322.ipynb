{
  "nbformat": 4,
  "nbformat_minor": 0,
  "metadata": {
    "colab": {
      "name": "20210322.ipynb",
      "provenance": [],
      "authorship_tag": "ABX9TyOlcssadJSrRux08gdMFqPk",
      "include_colab_link": true
    },
    "kernelspec": {
      "name": "python3",
      "display_name": "Python 3"
    },
    "language_info": {
      "name": "python"
    }
  },
  "cells": [
    {
      "cell_type": "markdown",
      "metadata": {
        "id": "view-in-github",
        "colab_type": "text"
      },
      "source": [
        "<a href=\"https://colab.research.google.com/github/gsb3501/class2021Spring/blob/main/20210322.ipynb\" target=\"_parent\"><img src=\"https://colab.research.google.com/assets/colab-badge.svg\" alt=\"Open In Colab\"/></a>"
      ]
    },
    {
      "cell_type": "markdown",
      "metadata": {
        "id": "Va3WK-wKT1Lu"
      },
      "source": [
        "함수\n",
        "- 입출력 \n",
        "- 함수의 형식은 def으로 함수의 이름, 입력 인자를 써준다\n",
        "- def __( ):\n"
      ]
    },
    {
      "cell_type": "code",
      "metadata": {
        "id": "uYjrwlVbWmT3"
      },
      "source": [
        "def add(a, b):\n",
        "  return a, b\n",
        "\n",
        "def subtract(a, b):\n",
        "  return a-b\n",
        "\n",
        "def multiply(a, b):\n",
        "  return a*b\n",
        "\n",
        "def divide(a, b):\n",
        "  return a/b"
      ],
      "execution_count": 11,
      "outputs": []
    },
    {
      "cell_type": "code",
      "metadata": {
        "colab": {
          "base_uri": "https://localhost:8080/"
        },
        "id": "SwtbctttWyPH",
        "outputId": "bd8ac6d4-4957-4391-fa79-29180b67f214"
      },
      "source": [
        "result = add(1, 2)\n",
        "print(result)\n",
        "type(result)"
      ],
      "execution_count": 12,
      "outputs": [
        {
          "output_type": "stream",
          "text": [
            "(1, 2)\n"
          ],
          "name": "stdout"
        },
        {
          "output_type": "execute_result",
          "data": {
            "text/plain": [
              "tuple"
            ]
          },
          "metadata": {
            "tags": []
          },
          "execution_count": 12
        }
      ]
    },
    {
      "cell_type": "code",
      "metadata": {
        "id": "WaLZpho9T1yn"
      },
      "source": [
        "# 1차 함수\n",
        "def func1(x):\n",
        "  a = 1; b = 2\n",
        "  y = ax + b\n",
        "  return y"
      ],
      "execution_count": 9,
      "outputs": []
    },
    {
      "cell_type": "code",
      "metadata": {
        "id": "7nSwRdxLXioZ"
      },
      "source": [
        "# 1차 함수 \n",
        "def func1(x, a, b):\n",
        "  y = a*x + b\n",
        "  return y "
      ],
      "execution_count": 10,
      "outputs": []
    },
    {
      "cell_type": "code",
      "metadata": {
        "colab": {
          "base_uri": "https://localhost:8080/"
        },
        "id": "qO6Ln1IAXPNA",
        "outputId": "f04deaba-081f-4ef3-bc4e-43ec0f896c0a"
      },
      "source": [
        "# 2차 함수 만들기\n",
        "def func2(x, a, b, c):\n",
        "  y = a*x**2 + b*x + c\n",
        "  return y \n",
        "\n",
        "func2(2, 1, 1, 1)"
      ],
      "execution_count": 15,
      "outputs": [
        {
          "output_type": "execute_result",
          "data": {
            "text/plain": [
              "7"
            ]
          },
          "metadata": {
            "tags": []
          },
          "execution_count": 15
        }
      ]
    }
  ]
}