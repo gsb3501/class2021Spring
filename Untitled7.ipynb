{
  "nbformat": 4,
  "nbformat_minor": 0,
  "metadata": {
    "colab": {
      "name": "Untitled7.ipynb",
      "provenance": [],
      "collapsed_sections": [],
      "authorship_tag": "ABX9TyPFIHp0hTiGpu4/OYwuglh1",
      "include_colab_link": true
    },
    "kernelspec": {
      "name": "python3",
      "display_name": "Python 3"
    },
    "language_info": {
      "name": "python"
    }
  },
  "cells": [
    {
      "cell_type": "markdown",
      "metadata": {
        "id": "view-in-github",
        "colab_type": "text"
      },
      "source": [
        "<a href=\"https://colab.research.google.com/github/gsb3501/class2021Spring/blob/main/Untitled7.ipynb\" target=\"_parent\"><img src=\"https://colab.research.google.com/assets/colab-badge.svg\" alt=\"Open In Colab\"/></a>"
      ]
    },
    {
      "cell_type": "code",
      "metadata": {
        "id": "4onZHOfxniX6"
      },
      "source": [
        "import numpy as np \n",
        "# numpy라는 패키지를 np라는 이름으로 불러옴. \n",
        "import matplotlib.pyplot as plt \n",
        "#matplotlib 라는 패키지 속의 pyplot.py라는 모듈을 plt 로 불러옴"
      ],
      "execution_count": 1,
      "outputs": []
    },
    {
      "cell_type": "code",
      "metadata": {
        "colab": {
          "base_uri": "https://localhost:8080/"
        },
        "id": "Dy342X5Gntbu",
        "outputId": "c5ecbf7d-b2f0-40b4-a968-87961a280153"
      },
      "source": [
        "np.empty([2, 3], dtype= 'int') # np 패키지 안의 empty 라는 함수를 사용\n",
        "# 2*3(2행 3열)의 행렬을 만들어라. 데이터 타입은 정수형 "
      ],
      "execution_count": 3,
      "outputs": [
        {
          "output_type": "execute_result",
          "data": {
            "text/plain": [
              "array([[94920876794288,              0,              0],\n",
              "       [             0,              0,              0]])"
            ]
          },
          "metadata": {
            "tags": []
          },
          "execution_count": 3
        }
      ]
    },
    {
      "cell_type": "code",
      "metadata": {
        "colab": {
          "base_uri": "https://localhost:8080/"
        },
        "id": "voZluDkspBgU",
        "outputId": "67a78f5c-28e6-45c4-9d90-c89a398c5662"
      },
      "source": [
        "np.zeros([2,3]) #2*3 행렬 생성"
      ],
      "execution_count": 4,
      "outputs": [
        {
          "output_type": "execute_result",
          "data": {
            "text/plain": [
              "array([[0., 0., 0.],\n",
              "       [0., 0., 0.]])"
            ]
          },
          "metadata": {
            "tags": []
          },
          "execution_count": 4
        }
      ]
    },
    {
      "cell_type": "code",
      "metadata": {
        "colab": {
          "base_uri": "https://localhost:8080/"
        },
        "id": "H2zcHCUwpFxT",
        "outputId": "d7af264a-38dd-4559-b6d9-fbfbbba9e75c"
      },
      "source": [
        "np.arange(0, 10, 2, dtype = 'float64')\n",
        "# 0부터 9까지 2만큼씩 커지게 숫자를 만들어라. 데이터 타입은 실수형. 소수점으로 "
      ],
      "execution_count": 5,
      "outputs": [
        {
          "output_type": "execute_result",
          "data": {
            "text/plain": [
              "array([0., 2., 4., 6., 8.])"
            ]
          },
          "metadata": {
            "tags": []
          },
          "execution_count": 5
        }
      ]
    },
    {
      "cell_type": "code",
      "metadata": {
        "colab": {
          "base_uri": "https://localhost:8080/"
        },
        "id": "IbcSEfqTpU5O",
        "outputId": "61894e3c-4fae-4f80-ca8d-9e46bcf2f05e"
      },
      "source": [
        "np.linspace(0, 10, 6, dtype = float) #linear space \n",
        "# 0부터 10까지 총 6개의 숫자를 일정한 간격으로 만들어라. "
      ],
      "execution_count": 7,
      "outputs": [
        {
          "output_type": "execute_result",
          "data": {
            "text/plain": [
              "array([ 0.,  2.,  4.,  6.,  8., 10.])"
            ]
          },
          "metadata": {
            "tags": []
          },
          "execution_count": 7
        }
      ]
    },
    {
      "cell_type": "code",
      "metadata": {
        "id": "7VSnTuyprTi8"
      },
      "source": [
        "#arange, linspace 는 벡터를 만들 수 있음. "
      ],
      "execution_count": 10,
      "outputs": []
    },
    {
      "cell_type": "code",
      "metadata": {
        "colab": {
          "base_uri": "https://localhost:8080/"
        },
        "id": "b8E0zlpmrYUb",
        "outputId": "a081ef6e-b961-44ae-8d60-0f1d065649d2"
      },
      "source": [
        "X = np.array([[1, 2, 3], [4, 5, 6]])\n",
        "X\n",
        "# 2*3 행렬 "
      ],
      "execution_count": 12,
      "outputs": [
        {
          "output_type": "execute_result",
          "data": {
            "text/plain": [
              "array([[1, 2, 3],\n",
              "       [4, 5, 6]])"
            ]
          },
          "metadata": {
            "tags": []
          },
          "execution_count": 12
        }
      ]
    },
    {
      "cell_type": "code",
      "metadata": {
        "colab": {
          "base_uri": "https://localhost:8080/"
        },
        "id": "NkPHT02CsNuW",
        "outputId": "fb72e108-ee62-466d-fe4e-2df2b43b54fa"
      },
      "source": [
        "X.astype(np.float64)  #X라는 클래스의 타입을 float 형태로 바꾼다. "
      ],
      "execution_count": 13,
      "outputs": [
        {
          "output_type": "execute_result",
          "data": {
            "text/plain": [
              "array([[1., 2., 3.],\n",
              "       [4., 5., 6.]])"
            ]
          },
          "metadata": {
            "tags": []
          },
          "execution_count": 13
        }
      ]
    },
    {
      "cell_type": "code",
      "metadata": {
        "colab": {
          "base_uri": "https://localhost:8080/"
        },
        "id": "Bj3G8pXGsWT6",
        "outputId": "6d78247a-229d-44eb-ff52-6beb4830eade"
      },
      "source": [
        "np.zeros_like(X)  #X라는 array 를 0으로 대체해라 "
      ],
      "execution_count": 14,
      "outputs": [
        {
          "output_type": "execute_result",
          "data": {
            "text/plain": [
              "array([[0, 0, 0],\n",
              "       [0, 0, 0]])"
            ]
          },
          "metadata": {
            "tags": []
          },
          "execution_count": 14
        }
      ]
    },
    {
      "cell_type": "markdown",
      "metadata": {
        "id": "RkjgrNkWq3xz"
      },
      "source": [
        "Vector \n",
        "벡터는 행렬인데, 형태가 세로로든, 가로로든 길죽하게 생긴 행렬임. \n",
        "\n",
        "column vector, row vector 가 있음. "
      ]
    },
    {
      "cell_type": "code",
      "metadata": {
        "colab": {
          "base_uri": "https://localhost:8080/",
          "height": 554
        },
        "id": "DQiZFrYMseTS",
        "outputId": "feee3b1b-571e-4f24-ed20-231d2a8f8501"
      },
      "source": [
        "data = np.random.normal(0, 1, 100) \n",
        "#np에서 random이라는 모듈 속의 normal 이라는 함수를 써라.\n",
        "#normal distribution 의 중간이 0이 되도록 하고, standard deviation 이 1이 되도록 해라. 그런 걸 100개 만들어내라 \n",
        "print(data)\n",
        "plt.hist(data, bins = 10)\n",
        "plt.show()"
      ],
      "execution_count": 18,
      "outputs": [
        {
          "output_type": "stream",
          "text": [
            "[-0.25842478 -1.34394037 -0.04661738 -0.28177345  0.34597799  1.02705503\n",
            " -1.8350344  -0.62033667 -1.59588228  0.36346615 -0.72393651 -0.20518477\n",
            " -1.44797395  0.09852215  2.37966617 -0.66262521  0.32327121 -1.52761408\n",
            "  0.62397773  0.98676155 -1.00064757  1.13786277  1.32162326  1.21949818\n",
            " -0.45460294 -0.68712227  1.27316736  0.60736092  0.19207013  0.13217554\n",
            " -0.26194445  0.98209566 -0.01191649 -2.21775416  0.15926704 -0.90035863\n",
            " -2.16412999 -0.06804149  1.01153223 -2.20486449 -1.62610378 -0.81908338\n",
            "  2.19996363 -0.4196074   0.43589589  1.41002627 -0.38720247  0.31646379\n",
            " -0.4918226  -1.65084096  0.5701245   0.05756135 -0.47888861 -1.95636439\n",
            " -0.01838219  0.22125749  0.24638287 -0.23568069 -0.4742794   0.38042965\n",
            "  0.98153548  0.23209633 -0.47685612 -0.53045279  1.0690107   0.75051372\n",
            "  1.19826946 -1.46359244  1.13838022  0.0592593   0.74288887 -0.40075738\n",
            " -1.9611463   0.57197494 -3.22160589 -0.2260629  -0.11052482  0.01241217\n",
            "  1.52591863 -0.07083385 -0.42713452  0.87190939  1.34020458  0.3087081\n",
            "  0.21475616  1.06148185  0.2882589  -0.60136389  0.94061285  0.21283567\n",
            "  1.18969983 -0.30422866 -0.86923407  0.34793421 -0.29497693 -0.91726492\n",
            " -1.14691715  0.07735144  0.19912164  0.51977721]\n"
          ],
          "name": "stdout"
        },
        {
          "output_type": "display_data",
          "data": {
            "image/png": "[encoded data removed]",
            "text/plain": [
              "<Figure size 432x288 with 1 Axes>"
            ]
          },
          "metadata": {
            "tags": [],
            "needs_background": "light"
          }
        }
      ]
    },
    {
      "cell_type": "code",
      "metadata": {
        "colab": {
          "base_uri": "https://localhost:8080/"
        },
        "id": "FpOITYmUvXGC",
        "outputId": "3491dd7d-6791-49c3-85e8-dc548d61348d"
      },
      "source": [
        "X = np.ones([2, 3, 4]) #3차원 중첩 리스트. \n",
        "# 2*3*4 의 tensor.  \n",
        "X"
      ],
      "execution_count": 19,
      "outputs": [
        {
          "output_type": "execute_result",
          "data": {
            "text/plain": [
              "array([[[1., 1., 1., 1.],\n",
              "        [1., 1., 1., 1.],\n",
              "        [1., 1., 1., 1.]],\n",
              "\n",
              "       [[1., 1., 1., 1.],\n",
              "        [1., 1., 1., 1.],\n",
              "        [1., 1., 1., 1.]]])"
            ]
          },
          "metadata": {
            "tags": []
          },
          "execution_count": 19
        }
      ]
    },
    {
      "cell_type": "code",
      "metadata": {
        "colab": {
          "base_uri": "https://localhost:8080/"
        },
        "id": "TanRXOl2wEoy",
        "outputId": "1a228813-b6b7-4077-f9f2-a3a99faf64d0"
      },
      "source": [
        "Y = X.reshape(-1, 3, 2)\n",
        "# 24였던 X를 reshapㄷ\n",
        "Y"
      ],
      "execution_count": 21,
      "outputs": [
        {
          "output_type": "execute_result",
          "data": {
            "text/plain": [
              "array([[[1., 1.],\n",
              "        [1., 1.],\n",
              "        [1., 1.]],\n",
              "\n",
              "       [[1., 1.],\n",
              "        [1., 1.],\n",
              "        [1., 1.]],\n",
              "\n",
              "       [[1., 1.],\n",
              "        [1., 1.],\n",
              "        [1., 1.]],\n",
              "\n",
              "       [[1., 1.],\n",
              "        [1., 1.],\n",
              "        [1., 1.]]])"
            ]
          },
          "metadata": {
            "tags": []
          },
          "execution_count": 21
        }
      ]
    },
    {
      "cell_type": "markdown",
      "metadata": {
        "id": "XU2tdowpvj4P"
      },
      "source": [
        "vector  matrix  tensor "
      ]
    }
  ]
}