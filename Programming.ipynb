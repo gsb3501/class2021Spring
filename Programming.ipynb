{
  "nbformat": 4,
  "nbformat_minor": 0,
  "metadata": {
    "colab": {
      "name": "Programming.ipynb",
      "provenance": [],
      "authorship_tag": "ABX9TyMjdxXIMHpZT2IjYEzdVNf9",
      "include_colab_link": true
    },
    "kernelspec": {
      "name": "python3",
      "display_name": "Python 3"
    }
  },
  "cells": [
    {
      "cell_type": "markdown",
      "metadata": {
        "id": "view-in-github",
        "colab_type": "text"
      },
      "source": [
        "<a href=\"https://colab.research.google.com/github/gsb3501/class2021Spring/blob/main/Programming.ipynb\" target=\"_parent\"><img src=\"https://colab.research.google.com/assets/colab-badge.svg\" alt=\"Open In Colab\"/></a>"
      ]
    },
    {
      "cell_type": "code",
      "metadata": {
        "id": "m38W35X5hUvR"
      },
      "source": [
        ""
      ],
      "execution_count": null,
      "outputs": []
    },
    {
      "cell_type": "markdown",
      "metadata": {
        "id": "FZxPnOz-hj4G"
      },
      "source": [
        "##인간의 언어\n",
        "- 단어 + 문법\n",
        "\n",
        "사과 = (사과) -> 사람의 언어\n",
        "\n",
        "## 프로그래밍 언어\n",
        "Ex) a = 1 \n",
        "\n",
        "a : variable 변수\n",
        "\n",
        "1 : 내용 \n",
        "\n",
        "= : 오른쪽 내용을 왼쪽에 assign \n",
        "\n",
        "컴퓨터 언어는 인간의 언어와 마찬가지로 단어와 문법으로 이루어져있다. \n",
        "\n",
        "a = 1\n",
        "b = 2\n",
        "c = 'love'\n",
        "-> a, b, c : 변수 \n",
        "-> 1, 2, 'love' : 내용\n",
        "\n",
        "문법 = 제어문\n",
        "1) 반복 : for\n",
        "2) 조건 : if \n",
        "\n",
        "함수 - 입출력 관계\n",
        "중간에 어떤 변화가 있으면 그 중간에 있는 것을 함수라고 함. \n",
        "input --function--> output \n",
        "y = f(x) \n",
        "y = ax + b 일차함수 \n",
        "\n"
      ]
    }
  ]
}