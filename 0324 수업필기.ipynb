{
  "nbformat": 4,
  "nbformat_minor": 0,
  "metadata": {
    "colab": {
      "name": "Untitled7.ipynb",
      "provenance": [],
      "collapsed_sections": [],
      "authorship_tag": "ABX9TyO3d+i9W6+HoyPeZnxtObwp",
      "include_colab_link": true
    },
    "kernelspec": {
      "name": "python3",
      "display_name": "Python 3"
    },
    "language_info": {
      "name": "python"
    }
  },
  "cells": [
    {
      "cell_type": "markdown",
      "metadata": {
        "id": "view-in-github",
        "colab_type": "text"
      },
      "source": [
        "<a href=\"https://colab.research.google.com/github/gsb3501/class2021Spring/blob/main/0324%20%EC%88%98%EC%97%85%ED%95%84%EA%B8%B0.ipynb\" target=\"_parent\"><img src=\"https://colab.research.google.com/assets/colab-badge.svg\" alt=\"Open In Colab\"/></a>"
      ]
    },
    {
      "cell_type": "markdown",
      "metadata": {
        "id": "1KqKQZzbxhv7"
      },
      "source": [
        "1. Creation"
      ]
    },
    {
      "cell_type": "code",
      "metadata": {
        "id": "4onZHOfxniX6"
      },
      "source": [
        "import numpy as np \n",
        "# numpy라는 패키지를 np라는 이름으로 불러옴. \n",
        "import matplotlib.pyplot as plt \n",
        "#matplotlib 라는 패키지 속의 pyplot.py라는 모듈을 plt 로 불러옴"
      ],
      "execution_count": 2,
      "outputs": []
    },
    {
      "cell_type": "code",
      "metadata": {
        "colab": {
          "base_uri": "https://localhost:8080/"
        },
        "id": "Dy342X5Gntbu",
        "outputId": "9b852e5c-64c3-4af4-ab24-ba3ab0c05f84"
      },
      "source": [
        "np.empty([2, 3], dtype= 'int') # np 패키지 안의 empty 라는 함수를 사용\n",
        "# 2*3(2행 3열)의 행렬을 만들어라. 데이터 타입은 정수형 "
      ],
      "execution_count": 3,
      "outputs": [
        {
          "output_type": "execute_result",
          "data": {
            "text/plain": [
              "array([[94354228789440,              0,              0],\n",
              "       [             0,              0,              0]])"
            ]
          },
          "metadata": {
            "tags": []
          },
          "execution_count": 3
        }
      ]
    },
    {
      "cell_type": "code",
      "metadata": {
        "colab": {
          "base_uri": "https://localhost:8080/"
        },
        "id": "voZluDkspBgU",
        "outputId": "e3da12b5-0385-48b1-d059-cde1a3b467f0"
      },
      "source": [
        "np.zeros([2,3]) #2*3 행렬 생성"
      ],
      "execution_count": 4,
      "outputs": [
        {
          "output_type": "execute_result",
          "data": {
            "text/plain": [
              "array([[0., 0., 0.],\n",
              "       [0., 0., 0.]])"
            ]
          },
          "metadata": {
            "tags": []
          },
          "execution_count": 4
        }
      ]
    },
    {
      "cell_type": "code",
      "metadata": {
        "colab": {
          "base_uri": "https://localhost:8080/"
        },
        "id": "H2zcHCUwpFxT",
        "outputId": "ec6e344e-55df-46be-d2af-222aa67b5450"
      },
      "source": [
        "np.arange(0, 10, 2, dtype = 'float64')\n",
        "# 0부터 9까지 2만큼씩 커지게 숫자를 만들어라. 데이터 타입은 실수형. 소수점으로 "
      ],
      "execution_count": 5,
      "outputs": [
        {
          "output_type": "execute_result",
          "data": {
            "text/plain": [
              "array([0., 2., 4., 6., 8.])"
            ]
          },
          "metadata": {
            "tags": []
          },
          "execution_count": 5
        }
      ]
    },
    {
      "cell_type": "code",
      "metadata": {
        "colab": {
          "base_uri": "https://localhost:8080/"
        },
        "id": "IbcSEfqTpU5O",
        "outputId": "1835acdb-7f0a-4791-df06-14ef03c2e9a3"
      },
      "source": [
        "np.linspace(0, 10, 6, dtype = float) #linear space \n",
        "# 0부터 10까지 총 6개의 숫자를 일정한 간격으로 만들어라. "
      ],
      "execution_count": 6,
      "outputs": [
        {
          "output_type": "execute_result",
          "data": {
            "text/plain": [
              "array([ 0.,  2.,  4.,  6.,  8., 10.])"
            ]
          },
          "metadata": {
            "tags": []
          },
          "execution_count": 6
        }
      ]
    },
    {
      "cell_type": "code",
      "metadata": {
        "id": "7VSnTuyprTi8"
      },
      "source": [
        "#arange, linspace 는 벡터를 만들 수 있음. "
      ],
      "execution_count": 7,
      "outputs": []
    },
    {
      "cell_type": "code",
      "metadata": {
        "colab": {
          "base_uri": "https://localhost:8080/"
        },
        "id": "b8E0zlpmrYUb",
        "outputId": "c7febf29-9120-4d9d-bade-b9032d88bf50"
      },
      "source": [
        "X = np.array([[1, 2, 3], [4, 5, 6]])\n",
        "X\n",
        "# 2*3 행렬 "
      ],
      "execution_count": 8,
      "outputs": [
        {
          "output_type": "execute_result",
          "data": {
            "text/plain": [
              "array([[1, 2, 3],\n",
              "       [4, 5, 6]])"
            ]
          },
          "metadata": {
            "tags": []
          },
          "execution_count": 8
        }
      ]
    },
    {
      "cell_type": "code",
      "metadata": {
        "colab": {
          "base_uri": "https://localhost:8080/"
        },
        "id": "NkPHT02CsNuW",
        "outputId": "bbca399c-23d3-4fba-9830-14daf55abbdb"
      },
      "source": [
        "X.astype(np.float64)  #X라는 클래스의 타입을 float 형태로 바꾼다. "
      ],
      "execution_count": 9,
      "outputs": [
        {
          "output_type": "execute_result",
          "data": {
            "text/plain": [
              "array([[1., 2., 3.],\n",
              "       [4., 5., 6.]])"
            ]
          },
          "metadata": {
            "tags": []
          },
          "execution_count": 9
        }
      ]
    },
    {
      "cell_type": "code",
      "metadata": {
        "colab": {
          "base_uri": "https://localhost:8080/"
        },
        "id": "Bj3G8pXGsWT6",
        "outputId": "2bc0e2cb-a85f-4b67-df33-563e4e4d69e6"
      },
      "source": [
        "np.zeros_like(X)  #X라는 array 를 0으로 대체해라 "
      ],
      "execution_count": 10,
      "outputs": [
        {
          "output_type": "execute_result",
          "data": {
            "text/plain": [
              "array([[0, 0, 0],\n",
              "       [0, 0, 0]])"
            ]
          },
          "metadata": {
            "tags": []
          },
          "execution_count": 10
        }
      ]
    },
    {
      "cell_type": "markdown",
      "metadata": {
        "id": "RkjgrNkWq3xz"
      },
      "source": [
        "Vector \n",
        "벡터는 행렬인데, 형태가 세로로든, 가로로든 길죽하게 생긴 행렬임. \n",
        "\n",
        "column vector, row vector 가 있음. \n",
        "\n",
        "vector, matrix, tensor "
      ]
    },
    {
      "cell_type": "markdown",
      "metadata": {
        "id": "XU2tdowpvj4P"
      },
      "source": [
        ""
      ]
    },
    {
      "cell_type": "code",
      "metadata": {
        "colab": {
          "base_uri": "https://localhost:8080/",
          "height": 554
        },
        "id": "DQiZFrYMseTS",
        "outputId": "0f13c670-a8f3-4e1d-e397-d1ca5e528d67"
      },
      "source": [
        "data = np.random.normal(0, 1, 100) \n",
        "#np에서 random이라는 모듈 속의 normal 이라는 함수를 써라.\n",
        "#normal distribution 의 중간이 0이 되도록 하고, standard deviation 이 1이 되도록 해라. 그런 걸 100개 만들어내라 \n",
        "print(data)\n",
        "plt.hist(data, bins = 10)\n",
        "plt.show()"
      ],
      "execution_count": 11,
      "outputs": [
        {
          "output_type": "stream",
          "text": [
            "[ 0.15427439  1.04303688  0.49962774 -1.00244551  0.20523781  0.09381277\n",
            " -2.04601143 -0.64089447  0.44991633  0.56927027  1.16300161  1.92472771\n",
            " -0.69641364  0.23347574  0.93356208  1.58986016  2.1426147   0.25852798\n",
            " -0.28449752 -0.3201082   0.27207745  1.12445323  1.15203207  0.44236927\n",
            "  0.92219924 -0.63872075  0.09912402  1.62801191 -1.37391656  0.69498131\n",
            "  0.51082428 -0.73959637 -2.0441227  -1.20783689  0.56780972 -0.24024748\n",
            " -0.86919898 -0.90841768  2.56333685 -1.07238476 -0.11051463  1.17605769\n",
            "  0.23920212  1.64783193  1.53653637  1.19096096  0.37878866  1.54750292\n",
            "  0.56759356  1.3817143  -0.27251339 -0.062156   -0.40194521  0.30322189\n",
            "  0.9129227  -0.7387605   0.29632216 -0.66156525  0.02878668  1.49518536\n",
            " -1.50042751 -0.71598315 -0.26954969 -0.65526023 -0.46374406  1.67544311\n",
            "  0.01289584 -2.36847122 -0.2379021  -1.55344773  1.17111032 -0.49420034\n",
            "  0.14314726 -0.1016336   1.7387183   0.04916209  0.63036474 -0.20620778\n",
            " -0.76570332 -1.19197212  0.35284055  0.22125088 -0.30003507 -1.42296126\n",
            " -0.77163307  0.73508203 -0.46738484 -0.76127294 -2.38948158 -1.41718112\n",
            "  0.87856365  3.15714181  1.93804022 -1.11749058  0.45440356 -0.01241838\n",
            " -0.20449284  0.01154813 -0.28204574  0.27104425]\n"
          ],
          "name": "stdout"
        },
        {
          "output_type": "display_data",
          "data": {
            "image/png": "[encoded data removed]",
            "text/plain": [
              "<Figure size 432x288 with 1 Axes>"
            ]
          },
          "metadata": {
            "tags": [],
            "needs_background": "light"
          }
        }
      ]
    },
    {
      "cell_type": "code",
      "metadata": {
        "colab": {
          "base_uri": "https://localhost:8080/"
        },
        "id": "FpOITYmUvXGC",
        "outputId": "caa8a2c2-5471-4300-aca7-6f1923ba399e"
      },
      "source": [
        "X = np.ones([2, 3, 4]) #3차원 중첩 리스트. \n",
        "# 2*3*4 의 tensor.  \n",
        "X"
      ],
      "execution_count": 12,
      "outputs": [
        {
          "output_type": "execute_result",
          "data": {
            "text/plain": [
              "array([[[1., 1., 1., 1.],\n",
              "        [1., 1., 1., 1.],\n",
              "        [1., 1., 1., 1.]],\n",
              "\n",
              "       [[1., 1., 1., 1.],\n",
              "        [1., 1., 1., 1.],\n",
              "        [1., 1., 1., 1.]]])"
            ]
          },
          "metadata": {
            "tags": []
          },
          "execution_count": 12
        }
      ]
    },
    {
      "cell_type": "code",
      "metadata": {
        "colab": {
          "base_uri": "https://localhost:8080/"
        },
        "id": "TanRXOl2wEoy",
        "outputId": "1b11bf8d-0cbc-4985-eccd-f4eb4fdaeea3"
      },
      "source": [
        "Y = X.reshape(-1, 3, 2) # 24였던 X를 reshape\n",
        "Y"
      ],
      "execution_count": 13,
      "outputs": [
        {
          "output_type": "execute_result",
          "data": {
            "text/plain": [
              "array([[[1., 1.],\n",
              "        [1., 1.],\n",
              "        [1., 1.]],\n",
              "\n",
              "       [[1., 1.],\n",
              "        [1., 1.],\n",
              "        [1., 1.]],\n",
              "\n",
              "       [[1., 1.],\n",
              "        [1., 1.],\n",
              "        [1., 1.]],\n",
              "\n",
              "       [[1., 1.],\n",
              "        [1., 1.],\n",
              "        [1., 1.]]])"
            ]
          },
          "metadata": {
            "tags": []
          },
          "execution_count": 13
        }
      ]
    },
    {
      "cell_type": "markdown",
      "metadata": {
        "id": "JMFyHgMxxrD5"
      },
      "source": [
        "4. Inspecting"
      ]
    },
    {
      "cell_type": "markdown",
      "metadata": {
        "id": "o4--XRLyzrO2"
      },
      "source": [
        "5.1 Aristhmetic "
      ]
    },
    {
      "cell_type": "code",
      "metadata": {
        "id": "_mlzO3nazu1g",
        "outputId": "ee91c11a-8d45-4fb6-fbd2-1198a1c980f2",
        "colab": {
          "base_uri": "https://localhost:8080/"
        }
      },
      "source": [
        "a = np.arange(1, 5, 1)\n",
        "b = np.arange(9, 5, -1)\n",
        "print(a)\n",
        "print(b)"
      ],
      "execution_count": 19,
      "outputs": [
        {
          "output_type": "stream",
          "text": [
            "[1 2 3 4]\n",
            "[9 8 7 6]\n"
          ],
          "name": "stdout"
        }
      ]
    },
    {
      "cell_type": "code",
      "metadata": {
        "id": "EnNbuir_0BYn",
        "outputId": "f032e2c0-f839-473b-fa08-23afc791bdfd",
        "colab": {
          "base_uri": "https://localhost:8080/"
        }
      },
      "source": [
        "print(a - b)\n",
        "print(a * b)"
      ],
      "execution_count": 15,
      "outputs": [
        {
          "output_type": "stream",
          "text": [
            "[-8 -6 -4 -2]\n",
            "[ 9 16 21 24]\n"
          ],
          "name": "stdout"
        }
      ]
    },
    {
      "cell_type": "code",
      "metadata": {
        "id": "WJoCRjiA1G1w"
      },
      "source": [
        "a = np.matrix(a)\n",
        "b = np.matrix(b)\n",
        "b"
      ],
      "execution_count": null,
      "outputs": []
    },
    {
      "cell_type": "code",
      "metadata": {
        "id": "dnrkT7M81J4U",
        "outputId": "e19baf89-ece3-4072-d3f4-ac9e76df7757",
        "colab": {
          "base_uri": "https://localhost:8080/"
        }
      },
      "source": [
        "a * b.T "
      ],
      "execution_count": 17,
      "outputs": [
        {
          "output_type": "execute_result",
          "data": {
            "text/plain": [
              "matrix([[70]])"
            ]
          },
          "metadata": {
            "tags": []
          },
          "execution_count": 17
        }
      ]
    },
    {
      "cell_type": "code",
      "metadata": {
        "id": "kWPEhytc1nmP",
        "outputId": "f2450a18-fe08-4e34-c930-5fd9f480fd36",
        "colab": {
          "base_uri": "https://localhost:8080/"
        }
      },
      "source": [
        "a.T * b"
      ],
      "execution_count": 20,
      "outputs": [
        {
          "output_type": "execute_result",
          "data": {
            "text/plain": [
              "array([ 9, 16, 21, 24])"
            ]
          },
          "metadata": {
            "tags": []
          },
          "execution_count": 20
        }
      ]
    },
    {
      "cell_type": "markdown",
      "metadata": {
        "id": "pD1QWMtb2Ctb"
      },
      "source": [
        ""
      ]
    }
  ]
}