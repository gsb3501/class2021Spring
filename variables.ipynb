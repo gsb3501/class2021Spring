{
  "nbformat": 4,
  "nbformat_minor": 0,
  "metadata": {
    "colab": {
      "name": "variables .ipynb",
      "provenance": [],
      "authorship_tag": "ABX9TyNgsdal9AESplwy0lLISODT",
      "include_colab_link": true
    },
    "kernelspec": {
      "name": "python3",
      "display_name": "Python 3"
    }
  },
  "cells": [
    {
      "cell_type": "markdown",
      "metadata": {
        "id": "view-in-github",
        "colab_type": "text"
      },
      "source": [
        "<a href=\"https://colab.research.google.com/github/gsb3501/class2021Spring/blob/main/variables.ipynb\" target=\"_parent\"><img src=\"https://colab.research.google.com/assets/colab-badge.svg\" alt=\"Open In Colab\"/></a>"
      ]
    },
    {
      "cell_type": "markdown",
      "metadata": {
        "id": "EMWd_6PpzjXF"
      },
      "source": [
        "# 변수 연습"
      ]
    },
    {
      "cell_type": "code",
      "metadata": {
        "colab": {
          "base_uri": "https://localhost:8080/"
        },
        "id": "UNZi_q7Lzr2e",
        "outputId": "17264ceb-9569-40d0-9442-867c65f7b976"
      },
      "source": [
        "a = 1\n",
        "print(type(a))\n",
        "#a의 타입은 integer"
      ],
      "execution_count": null,
      "outputs": [
        {
          "output_type": "stream",
          "text": [
            "<class 'int'>\n"
          ],
          "name": "stdout"
        }
      ]
    },
    {
      "cell_type": "code",
      "metadata": {
        "colab": {
          "base_uri": "https://localhost:8080/"
        },
        "id": "JHTzIHXbzse8",
        "outputId": "425c5ead-0629-4e12-aeb8-bd5a7e993273"
      },
      "source": [
        "a = 1\n",
        "a = float(a)\n",
        "print(type(a))\n",
        "#integer 타입의 a를 float 타입으로 바꿈"
      ],
      "execution_count": null,
      "outputs": [
        {
          "output_type": "stream",
          "text": [
            "<class 'float'>\n"
          ],
          "name": "stdout"
        }
      ]
    },
    {
      "cell_type": "code",
      "metadata": {
        "colab": {
          "base_uri": "https://localhost:8080/"
        },
        "id": "ClxeeRPazukq",
        "outputId": "7ddd181f-21d7-4680-a877-46e6c64e659d"
      },
      "source": [
        "a = 1.2\n",
        "a = int(a)\n",
        "print(type(a))\n",
        "print(a) # 실수 형태의 a를 정수형으로 바꾸었더니 a = 1이 됨"
      ],
      "execution_count": null,
      "outputs": [
        {
          "output_type": "stream",
          "text": [
            "<class 'int'>\n",
            "1\n"
          ],
          "name": "stdout"
        }
      ]
    },
    {
      "cell_type": "code",
      "metadata": {
        "colab": {
          "base_uri": "https://localhost:8080/"
        },
        "id": "LebljbsPzwmU",
        "outputId": "d79523c2-9e93-408e-c157-a0c2c80ba632"
      },
      "source": [
        "a = '123'\n",
        "print(type(a))\n",
        "print(a[1])"
      ],
      "execution_count": null,
      "outputs": [
        {
          "output_type": "stream",
          "text": [
            "<class 'str'>\n",
            "2\n"
          ],
          "name": "stdout"
        }
      ]
    },
    {
      "cell_type": "code",
      "metadata": {
        "colab": {
          "base_uri": "https://localhost:8080/"
        },
        "id": "xE9__S2TzyNu",
        "outputId": "82e9bff0-7519-4da8-bd63-4d3001db730e"
      },
      "source": [
        "a = '123'\n",
        "a = list(a)\n",
        "print(type(a))\n",
        "print(a)\n",
        "print(a[2])"
      ],
      "execution_count": null,
      "outputs": [
        {
          "output_type": "stream",
          "text": [
            "<class 'list'>\n",
            "['1', '2', '3']\n",
            "3\n"
          ],
          "name": "stdout"
        }
      ]
    },
    {
      "cell_type": "code",
      "metadata": {
        "colab": {
          "base_uri": "https://localhost:8080/"
        },
        "id": "z13-taYvz0r2",
        "outputId": "0b4cf765-8daf-4644-ed71-bd7a36deacb0"
      },
      "source": [
        "a = [1,'2', [3, '4']] \n",
        "print(type(a)) \n",
        "print(a[0]) \n",
        "print(a[1]) \n",
        "print(a[2])"
      ],
      "execution_count": null,
      "outputs": [
        {
          "output_type": "stream",
          "text": [
            "<class 'list'>\n",
            "1\n",
            "2\n",
            "[3, '4']\n"
          ],
          "name": "stdout"
        }
      ]
    },
    {
      "cell_type": "code",
      "metadata": {
        "colab": {
          "base_uri": "https://localhost:8080/"
        },
        "id": "34T-w3L7z2js",
        "outputId": "8f1693ed-541b-4e9a-be3b-c1c3d2e95db0"
      },
      "source": [
        "a = [1,'2', [3, '4']] \n",
        "print(type(a)) \n",
        "print(a[0]) \n",
        "print(a[1]) \n",
        "print(a[2])"
      ],
      "execution_count": null,
      "outputs": [
        {
          "output_type": "stream",
          "text": [
            "<class 'list'>\n",
            "1\n",
            "2\n",
            "[3, '4']\n"
          ],
          "name": "stdout"
        }
      ]
    },
    {
      "cell_type": "code",
      "metadata": {
        "colab": {
          "base_uri": "https://localhost:8080/"
        },
        "id": "_gABhslUz3N3",
        "outputId": "5540cfc4-5c77-42f1-b032-2d78444d60a0"
      },
      "source": [
        "a =\t{\"a\": \"apple\", \"b\": \"orange\", \"c\": 2014}\n",
        "print(type(a))\n",
        "print(a[\"a\"])"
      ],
      "execution_count": null,
      "outputs": [
        {
          "output_type": "stream",
          "text": [
            "<class 'dict'>\n",
            "apple\n"
          ],
          "name": "stdout"
        }
      ]
    },
    {
      "cell_type": "markdown",
      "metadata": {
        "id": "GvcDbG_li6Wj"
      },
      "source": [
        "#Dictionary\n",
        "표제어(key) : 설명(value) 형태로 저장.\n",
        "리스트처럼 인덱스로 관리하는 것이 아니라, key를 가지고 value에 접근.  "
      ]
    },
    {
      "cell_type": "code",
      "metadata": {
        "colab": {
          "base_uri": "https://localhost:8080/"
        },
        "id": "V608fcWcz5sd",
        "outputId": "6a16a713-997f-4869-8aeb-e67b16c749e2"
      },
      "source": [
        "a=[(1,2,3), (3,8,0)]\n",
        "print(type(a))\n",
        "a"
      ],
      "execution_count": null,
      "outputs": [
        {
          "output_type": "stream",
          "text": [
            "<class 'list'>\n"
          ],
          "name": "stdout"
        },
        {
          "output_type": "execute_result",
          "data": {
            "text/plain": [
              "[(1, 2, 3), (3, 8, 0)]"
            ]
          },
          "metadata": {
            "tags": []
          },
          "execution_count": 31
        }
      ]
    }
  ]
}